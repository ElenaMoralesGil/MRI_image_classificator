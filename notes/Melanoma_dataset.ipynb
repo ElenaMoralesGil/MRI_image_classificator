{
 "cells": [
  {
   "cell_type": "markdown",
   "source": [
    "# Guia práctica 2 \n",
    "\n",
    "Utilizamos el dataset de kaggle : https://www.kaggle.com/datasets/andrewmvd/isic-2019/data\n"
   ],
   "metadata": {
    "collapsed": false
   },
   "id": "92ce209dc1451d6b"
  },
  {
   "cell_type": "markdown",
   "source": [
    "Instalar kaggle API y descargar el dataset mediante consola, escribir en consola :"
   ],
   "metadata": {
    "collapsed": false
   },
   "id": "823221302a86a9"
  },
  {
   "cell_type": "markdown",
   "source": [
    "pip install kaggle"
   ],
   "metadata": {
    "collapsed": false
   },
   "id": "352a6e4cbaf71283"
  },
  {
   "cell_type": "markdown",
   "source": [
    "kaggle datasets download -d andrewmvd/isic-2019"
   ],
   "metadata": {
    "collapsed": false
   },
   "id": "f44f95899e017c1"
  },
  {
   "cell_type": "markdown",
   "source": [
    "_________________________________________"
   ],
   "metadata": {
    "collapsed": false
   },
   "id": "131ea546f8bb24db"
  },
  {
   "cell_type": "markdown",
   "source": [
    "Para establecer la configuracion de API de kaggle, es decir establecer donde se descarga el kaggle.json: "
   ],
   "metadata": {
    "collapsed": false
   },
   "id": "42bb379bba4c7731"
  },
  {
   "cell_type": "code",
   "execution_count": 3,
   "outputs": [],
   "source": [
    "import os\n",
    "\n",
    "os.environ[\"KAGGLE_CONFIG_DIR\"] = \"C:/Users/elena/.kaggle\""
   ],
   "metadata": {
    "collapsed": false,
    "ExecuteTime": {
     "end_time": "2023-12-14T18:02:34.767967800Z",
     "start_time": "2023-12-14T18:02:34.751955Z"
    }
   },
   "id": "707359585bcc0795"
  },
  {
   "cell_type": "markdown",
   "source": [
    "# Descarga dataset"
   ],
   "metadata": {
    "collapsed": false
   },
   "id": "9a004aeb8dfca4a4"
  },
  {
   "cell_type": "code",
   "execution_count": 1,
   "id": "initial_id",
   "metadata": {
    "collapsed": true,
    "ExecuteTime": {
     "end_time": "2023-12-14T18:39:51.567814900Z",
     "start_time": "2023-12-14T18:19:50.272008100Z"
    }
   },
   "outputs": [],
   "source": [
    "import kaggle\n",
    "\n",
    "dataset_name = \"andrewmvd/isic-2019\"\n",
    "kaggle.api.dataset_download_files(dataset_name, path=\"C:/Users/elena/Desktop/universidad/3º año/FSI/pythorch\", unzip=True)\n"
   ]
  },
  {
   "cell_type": "markdown",
   "source": [
    "## Creacion pytorch dataset"
   ],
   "metadata": {
    "collapsed": false
   },
   "id": "cc700fd67090473"
  },
  {
   "cell_type": "code",
   "execution_count": 5,
   "outputs": [],
   "source": [
    "import os\n",
    "from torchvision import transforms\n",
    "from torchvision.datasets import ImageFolder\n",
    "from torch.utils.data import DataLoader\n",
    "\n",
    "data_dir = \"C:/Users/elena/Desktop/universidad/3º año/FSI/pythorch/ISIC_2019_Training_Input\"  # The directory where the dataset was downloaded\n",
    "\n",
    "transform = transforms.Compose([\n",
    "    transforms.Resize((256, 256)),\n",
    "    transforms.ToTensor(),\n",
    "])\n",
    "\n",
    "dataset = ImageFolder(root=data_dir, transform=transform)\n",
    "\n",
    "# You can create a DataLoader for batching and iterating over the dataset\n",
    "dataloader = DataLoader(dataset, batch_size=32, shuffle=True)\n",
    "\n",
    "# Now, you can use `dataloader` to iterate over the dataset in your PyTorch code.\n"
   ],
   "metadata": {
    "collapsed": false,
    "ExecuteTime": {
     "end_time": "2023-12-14T18:46:30.212652800Z",
     "start_time": "2023-12-14T18:46:30.058619500Z"
    }
   },
   "id": "4b20268a5ae6f77c"
  },
  {
   "cell_type": "markdown",
   "source": [
    "## Definicion de una red convolucional de neuronas, modelo (CNN)\n"
   ],
   "metadata": {
    "collapsed": false
   },
   "id": "4c503466e3077b70"
  },
  {
   "cell_type": "code",
   "execution_count": null,
   "outputs": [],
   "source": [
    "import torch.nn as nn\n",
    "\n",
    "class CNNModel(nn.Module):\n",
    "    def __init__(self, num_classes):\n",
    "        super(CNNModel, self).__init__()\n",
    "        self.conv1 = nn.Conv2d(3, 16, kernel_size=3, stride=1, padding=1)\n",
    "        self.relu = nn.ReLU()\n",
    "        self.pool = nn.MaxPool2d(kernel_size=2, stride=2)\n",
    "        self.fc1 = nn.Linear(16 * 128 * 128, 64)  # Adjust input size based on your dataset\n",
    "        self.fc2 = nn.Linear(64, num_classes)\n",
    "\n",
    "    def forward(self, x):\n",
    "        x = self.pool(self.relu(self.conv1(x)))\n",
    "        x = x.view(-1, 16 * 128 * 128)\n",
    "        x = self.relu(self.fc1(x))\n",
    "        x = self.fc2(x)\n",
    "        return x\n"
   ],
   "metadata": {
    "collapsed": false
   },
   "id": "e175594a56a1eeed"
  },
  {
   "cell_type": "markdown",
   "source": [
    "## Establecer lod Data Loaders"
   ],
   "metadata": {
    "collapsed": false
   },
   "id": "63093167b111b8eb"
  },
  {
   "cell_type": "code",
   "execution_count": 23,
   "outputs": [
    {
     "name": "stdout",
     "output_type": "stream",
     "text": [
      "C:\\Users\\elena\\Desktop\\universidad\\3º año\\FSI\\pythorch\n"
     ]
    },
    {
     "ename": "FileNotFoundError",
     "evalue": "Couldn't find any class folder in C:\\Users\\elena\\Desktop\\universidad\\3º año\\FSI\\pythorch\\ISIC_2019_Training_Input\\train.",
     "output_type": "error",
     "traceback": [
      "\u001B[1;31m---------------------------------------------------------------------------\u001B[0m",
      "\u001B[1;31mFileNotFoundError\u001B[0m                         Traceback (most recent call last)",
      "Cell \u001B[1;32mIn[23], line 18\u001B[0m\n\u001B[0;32m     15\u001B[0m train_dir \u001B[38;5;241m=\u001B[39m \u001B[38;5;124mr\u001B[39m\u001B[38;5;124m\"\u001B[39m\u001B[38;5;124mC:\u001B[39m\u001B[38;5;124m\\\u001B[39m\u001B[38;5;124mUsers\u001B[39m\u001B[38;5;124m\\\u001B[39m\u001B[38;5;124melena\u001B[39m\u001B[38;5;124m\\\u001B[39m\u001B[38;5;124mDesktop\u001B[39m\u001B[38;5;124m\\\u001B[39m\u001B[38;5;124muniversidad\u001B[39m\u001B[38;5;124m\\\u001B[39m\u001B[38;5;124m3º año\u001B[39m\u001B[38;5;124m\\\u001B[39m\u001B[38;5;124mFSI\u001B[39m\u001B[38;5;124m\\\u001B[39m\u001B[38;5;124mpythorch\u001B[39m\u001B[38;5;124m\\\u001B[39m\u001B[38;5;124mISIC_2019_Training_Input\u001B[39m\u001B[38;5;124m\\\u001B[39m\u001B[38;5;124mtrain\u001B[39m\u001B[38;5;124m\"\u001B[39m\n\u001B[0;32m     16\u001B[0m test_dir \u001B[38;5;241m=\u001B[39m \u001B[38;5;124mr\u001B[39m\u001B[38;5;124m\"\u001B[39m\u001B[38;5;124mC:\u001B[39m\u001B[38;5;124m\\\u001B[39m\u001B[38;5;124mUsers\u001B[39m\u001B[38;5;124m\\\u001B[39m\u001B[38;5;124melena\u001B[39m\u001B[38;5;124m\\\u001B[39m\u001B[38;5;124mDesktop\u001B[39m\u001B[38;5;124m\\\u001B[39m\u001B[38;5;124muniversidad\u001B[39m\u001B[38;5;124m\\\u001B[39m\u001B[38;5;124m3º año\u001B[39m\u001B[38;5;124m\\\u001B[39m\u001B[38;5;124mFSI\u001B[39m\u001B[38;5;124m\\\u001B[39m\u001B[38;5;124mpythorch\u001B[39m\u001B[38;5;124m\\\u001B[39m\u001B[38;5;124mISIC_2019_Training_Input\u001B[39m\u001B[38;5;124m\\\u001B[39m\u001B[38;5;124mtest\u001B[39m\u001B[38;5;124m\"\u001B[39m\n\u001B[1;32m---> 18\u001B[0m train_dataset \u001B[38;5;241m=\u001B[39m \u001B[43mImageFolder\u001B[49m\u001B[43m(\u001B[49m\n\u001B[0;32m     19\u001B[0m \u001B[43m    \u001B[49m\u001B[43mroot\u001B[49m\u001B[38;5;241;43m=\u001B[39;49m\u001B[43mtrain_dir\u001B[49m\u001B[43m,\u001B[49m\n\u001B[0;32m     20\u001B[0m \u001B[43m    \u001B[49m\u001B[43mtransform\u001B[49m\u001B[38;5;241;43m=\u001B[39;49m\u001B[43mtransform\u001B[49m\n\u001B[0;32m     21\u001B[0m \u001B[43m)\u001B[49m\n\u001B[0;32m     23\u001B[0m test_dataset \u001B[38;5;241m=\u001B[39m ImageFolder(\n\u001B[0;32m     24\u001B[0m     root\u001B[38;5;241m=\u001B[39mtest_dir,\n\u001B[0;32m     25\u001B[0m     transform\u001B[38;5;241m=\u001B[39mtransform\n\u001B[0;32m     26\u001B[0m )\n\u001B[0;32m     28\u001B[0m train_loader \u001B[38;5;241m=\u001B[39m DataLoader(train_dataset, batch_size\u001B[38;5;241m=\u001B[39m\u001B[38;5;241m32\u001B[39m, shuffle\u001B[38;5;241m=\u001B[39m\u001B[38;5;28;01mTrue\u001B[39;00m)\n",
      "File \u001B[1;32m~\\Desktop\\universidad\\3º año\\FSI\\pythorch\\venv\\lib\\site-packages\\torchvision\\datasets\\folder.py:309\u001B[0m, in \u001B[0;36mImageFolder.__init__\u001B[1;34m(self, root, transform, target_transform, loader, is_valid_file)\u001B[0m\n\u001B[0;32m    301\u001B[0m \u001B[38;5;28;01mdef\u001B[39;00m \u001B[38;5;21m__init__\u001B[39m(\n\u001B[0;32m    302\u001B[0m     \u001B[38;5;28mself\u001B[39m,\n\u001B[0;32m    303\u001B[0m     root: \u001B[38;5;28mstr\u001B[39m,\n\u001B[1;32m   (...)\u001B[0m\n\u001B[0;32m    307\u001B[0m     is_valid_file: Optional[Callable[[\u001B[38;5;28mstr\u001B[39m], \u001B[38;5;28mbool\u001B[39m]] \u001B[38;5;241m=\u001B[39m \u001B[38;5;28;01mNone\u001B[39;00m,\n\u001B[0;32m    308\u001B[0m ):\n\u001B[1;32m--> 309\u001B[0m     \u001B[38;5;28;43msuper\u001B[39;49m\u001B[43m(\u001B[49m\u001B[43m)\u001B[49m\u001B[38;5;241;43m.\u001B[39;49m\u001B[38;5;21;43m__init__\u001B[39;49m\u001B[43m(\u001B[49m\n\u001B[0;32m    310\u001B[0m \u001B[43m        \u001B[49m\u001B[43mroot\u001B[49m\u001B[43m,\u001B[49m\n\u001B[0;32m    311\u001B[0m \u001B[43m        \u001B[49m\u001B[43mloader\u001B[49m\u001B[43m,\u001B[49m\n\u001B[0;32m    312\u001B[0m \u001B[43m        \u001B[49m\u001B[43mIMG_EXTENSIONS\u001B[49m\u001B[43m \u001B[49m\u001B[38;5;28;43;01mif\u001B[39;49;00m\u001B[43m \u001B[49m\u001B[43mis_valid_file\u001B[49m\u001B[43m \u001B[49m\u001B[38;5;129;43;01mis\u001B[39;49;00m\u001B[43m \u001B[49m\u001B[38;5;28;43;01mNone\u001B[39;49;00m\u001B[43m \u001B[49m\u001B[38;5;28;43;01melse\u001B[39;49;00m\u001B[43m \u001B[49m\u001B[38;5;28;43;01mNone\u001B[39;49;00m\u001B[43m,\u001B[49m\n\u001B[0;32m    313\u001B[0m \u001B[43m        \u001B[49m\u001B[43mtransform\u001B[49m\u001B[38;5;241;43m=\u001B[39;49m\u001B[43mtransform\u001B[49m\u001B[43m,\u001B[49m\n\u001B[0;32m    314\u001B[0m \u001B[43m        \u001B[49m\u001B[43mtarget_transform\u001B[49m\u001B[38;5;241;43m=\u001B[39;49m\u001B[43mtarget_transform\u001B[49m\u001B[43m,\u001B[49m\n\u001B[0;32m    315\u001B[0m \u001B[43m        \u001B[49m\u001B[43mis_valid_file\u001B[49m\u001B[38;5;241;43m=\u001B[39;49m\u001B[43mis_valid_file\u001B[49m\u001B[43m,\u001B[49m\n\u001B[0;32m    316\u001B[0m \u001B[43m    \u001B[49m\u001B[43m)\u001B[49m\n\u001B[0;32m    317\u001B[0m     \u001B[38;5;28mself\u001B[39m\u001B[38;5;241m.\u001B[39mimgs \u001B[38;5;241m=\u001B[39m \u001B[38;5;28mself\u001B[39m\u001B[38;5;241m.\u001B[39msamples\n",
      "File \u001B[1;32m~\\Desktop\\universidad\\3º año\\FSI\\pythorch\\venv\\lib\\site-packages\\torchvision\\datasets\\folder.py:144\u001B[0m, in \u001B[0;36mDatasetFolder.__init__\u001B[1;34m(self, root, loader, extensions, transform, target_transform, is_valid_file)\u001B[0m\n\u001B[0;32m    134\u001B[0m \u001B[38;5;28;01mdef\u001B[39;00m \u001B[38;5;21m__init__\u001B[39m(\n\u001B[0;32m    135\u001B[0m     \u001B[38;5;28mself\u001B[39m,\n\u001B[0;32m    136\u001B[0m     root: \u001B[38;5;28mstr\u001B[39m,\n\u001B[1;32m   (...)\u001B[0m\n\u001B[0;32m    141\u001B[0m     is_valid_file: Optional[Callable[[\u001B[38;5;28mstr\u001B[39m], \u001B[38;5;28mbool\u001B[39m]] \u001B[38;5;241m=\u001B[39m \u001B[38;5;28;01mNone\u001B[39;00m,\n\u001B[0;32m    142\u001B[0m ) \u001B[38;5;241m-\u001B[39m\u001B[38;5;241m>\u001B[39m \u001B[38;5;28;01mNone\u001B[39;00m:\n\u001B[0;32m    143\u001B[0m     \u001B[38;5;28msuper\u001B[39m()\u001B[38;5;241m.\u001B[39m\u001B[38;5;21m__init__\u001B[39m(root, transform\u001B[38;5;241m=\u001B[39mtransform, target_transform\u001B[38;5;241m=\u001B[39mtarget_transform)\n\u001B[1;32m--> 144\u001B[0m     classes, class_to_idx \u001B[38;5;241m=\u001B[39m \u001B[38;5;28;43mself\u001B[39;49m\u001B[38;5;241;43m.\u001B[39;49m\u001B[43mfind_classes\u001B[49m\u001B[43m(\u001B[49m\u001B[38;5;28;43mself\u001B[39;49m\u001B[38;5;241;43m.\u001B[39;49m\u001B[43mroot\u001B[49m\u001B[43m)\u001B[49m\n\u001B[0;32m    145\u001B[0m     samples \u001B[38;5;241m=\u001B[39m \u001B[38;5;28mself\u001B[39m\u001B[38;5;241m.\u001B[39mmake_dataset(\u001B[38;5;28mself\u001B[39m\u001B[38;5;241m.\u001B[39mroot, class_to_idx, extensions, is_valid_file)\n\u001B[0;32m    147\u001B[0m     \u001B[38;5;28mself\u001B[39m\u001B[38;5;241m.\u001B[39mloader \u001B[38;5;241m=\u001B[39m loader\n",
      "File \u001B[1;32m~\\Desktop\\universidad\\3º año\\FSI\\pythorch\\venv\\lib\\site-packages\\torchvision\\datasets\\folder.py:218\u001B[0m, in \u001B[0;36mDatasetFolder.find_classes\u001B[1;34m(self, directory)\u001B[0m\n\u001B[0;32m    191\u001B[0m \u001B[38;5;28;01mdef\u001B[39;00m \u001B[38;5;21mfind_classes\u001B[39m(\u001B[38;5;28mself\u001B[39m, directory: \u001B[38;5;28mstr\u001B[39m) \u001B[38;5;241m-\u001B[39m\u001B[38;5;241m>\u001B[39m Tuple[List[\u001B[38;5;28mstr\u001B[39m], Dict[\u001B[38;5;28mstr\u001B[39m, \u001B[38;5;28mint\u001B[39m]]:\n\u001B[0;32m    192\u001B[0m \u001B[38;5;250m    \u001B[39m\u001B[38;5;124;03m\"\"\"Find the class folders in a dataset structured as follows::\u001B[39;00m\n\u001B[0;32m    193\u001B[0m \n\u001B[0;32m    194\u001B[0m \u001B[38;5;124;03m        directory/\u001B[39;00m\n\u001B[1;32m   (...)\u001B[0m\n\u001B[0;32m    216\u001B[0m \u001B[38;5;124;03m        (Tuple[List[str], Dict[str, int]]): List of all classes and dictionary mapping each class to an index.\u001B[39;00m\n\u001B[0;32m    217\u001B[0m \u001B[38;5;124;03m    \"\"\"\u001B[39;00m\n\u001B[1;32m--> 218\u001B[0m     \u001B[38;5;28;01mreturn\u001B[39;00m \u001B[43mfind_classes\u001B[49m\u001B[43m(\u001B[49m\u001B[43mdirectory\u001B[49m\u001B[43m)\u001B[49m\n",
      "File \u001B[1;32m~\\Desktop\\universidad\\3º año\\FSI\\pythorch\\venv\\lib\\site-packages\\torchvision\\datasets\\folder.py:42\u001B[0m, in \u001B[0;36mfind_classes\u001B[1;34m(directory)\u001B[0m\n\u001B[0;32m     40\u001B[0m classes \u001B[38;5;241m=\u001B[39m \u001B[38;5;28msorted\u001B[39m(entry\u001B[38;5;241m.\u001B[39mname \u001B[38;5;28;01mfor\u001B[39;00m entry \u001B[38;5;129;01min\u001B[39;00m os\u001B[38;5;241m.\u001B[39mscandir(directory) \u001B[38;5;28;01mif\u001B[39;00m entry\u001B[38;5;241m.\u001B[39mis_dir())\n\u001B[0;32m     41\u001B[0m \u001B[38;5;28;01mif\u001B[39;00m \u001B[38;5;129;01mnot\u001B[39;00m classes:\n\u001B[1;32m---> 42\u001B[0m     \u001B[38;5;28;01mraise\u001B[39;00m \u001B[38;5;167;01mFileNotFoundError\u001B[39;00m(\u001B[38;5;124mf\u001B[39m\u001B[38;5;124m\"\u001B[39m\u001B[38;5;124mCouldn\u001B[39m\u001B[38;5;124m'\u001B[39m\u001B[38;5;124mt find any class folder in \u001B[39m\u001B[38;5;132;01m{\u001B[39;00mdirectory\u001B[38;5;132;01m}\u001B[39;00m\u001B[38;5;124m.\u001B[39m\u001B[38;5;124m\"\u001B[39m)\n\u001B[0;32m     44\u001B[0m class_to_idx \u001B[38;5;241m=\u001B[39m {cls_name: i \u001B[38;5;28;01mfor\u001B[39;00m i, cls_name \u001B[38;5;129;01min\u001B[39;00m \u001B[38;5;28menumerate\u001B[39m(classes)}\n\u001B[0;32m     45\u001B[0m \u001B[38;5;28;01mreturn\u001B[39;00m classes, class_to_idx\n",
      "\u001B[1;31mFileNotFoundError\u001B[0m: Couldn't find any class folder in C:\\Users\\elena\\Desktop\\universidad\\3º año\\FSI\\pythorch\\ISIC_2019_Training_Input\\train."
     ]
    }
   ],
   "source": [
    "from torchvision.datasets import ImageFolder\n",
    "from torch.utils.data import DataLoader\n",
    "from torchvision import transforms\n",
    "import os\n",
    "\n",
    "# Define data transforms\n",
    "transform = transforms.Compose([\n",
    "    transforms.Resize((128, 128)),\n",
    "    transforms.ToTensor(),\n",
    "])\n",
    "\n",
    "print(os.getcwd())\n",
    "\n",
    "# Update these paths to the correct directories\n",
    "train_dir = r\"C:\\Users\\elena\\Desktop\\universidad\\3º año\\FSI\\pythorch\\ISIC_2019_Training_Input\\train\"\n",
    "test_dir = r\"C:\\Users\\elena\\Desktop\\universidad\\3º año\\FSI\\pythorch\\ISIC_2019_Training_Input\\test\"\n",
    "\n",
    "train_dataset = ImageFolder(\n",
    "    root=train_dir,\n",
    "    transform=transform\n",
    ")\n",
    "\n",
    "test_dataset = ImageFolder(\n",
    "    root=test_dir,\n",
    "    transform=transform\n",
    ")\n",
    "\n",
    "train_loader = DataLoader(train_dataset, batch_size=32, shuffle=True)\n",
    "test_loader = DataLoader(test_dataset, batch_size=32, shuffle=False)\n"
   ],
   "metadata": {
    "collapsed": false,
    "ExecuteTime": {
     "end_time": "2023-12-14T19:24:29.394699200Z",
     "start_time": "2023-12-14T19:24:29.237869900Z"
    }
   },
   "id": "bc64fe40e7c3a368"
  },
  {
   "cell_type": "code",
   "execution_count": 22,
   "outputs": [
    {
     "name": "stdout",
     "output_type": "stream",
     "text": [
      "Successfully changed to '3º año'\n",
      "Listing contents: ['ASO', 'BD2', 'FSI', 'HORARIO PRIMER SEMESTRE.jpg', 'horario.jpeg', 'IS2']\n",
      "Successfully changed to 'FSI'\n",
      "Listing contents: ['P1', 'P1 - copia', 'P1.zip', 'pythorch', 'tabla.docx', 'Tabla.pdf', 'TABLA_P1.htm']\n",
      "Successfully changed to 'pythorch'\n",
      "Listing contents: ['.idea', 'ISIC_2019_Training_GroundTruth.csv', 'ISIC_2019_Training_Input', 'ISIC_2019_Training_Metadata.csv', 'model', 'notes', 'venv']\n"
     ]
    }
   ],
   "source": [
    "import os\n",
    "\n",
    "# Manually navigate to each directory\n",
    "try:\n",
    "    os.chdir(r\"C:\\Users\\elena\\Desktop\\universidad\\3º año\")\n",
    "    print(\"Successfully changed to '3º año'\")\n",
    "    print(\"Listing contents:\", os.listdir())\n",
    "    os.chdir(\"FSI\")\n",
    "    print(\"Successfully changed to 'FSI'\")\n",
    "    print(\"Listing contents:\", os.listdir())\n",
    "    os.chdir(\"pythorch\")\n",
    "    print(\"Successfully changed to 'pythorch'\")\n",
    "    print(\"Listing contents:\", os.listdir())\n",
    "except Exception as e:\n",
    "    print(\"An error occurred:\", e)\n"
   ],
   "metadata": {
    "collapsed": false,
    "ExecuteTime": {
     "end_time": "2023-12-14T19:23:24.380053200Z",
     "start_time": "2023-12-14T19:23:24.349033200Z"
    }
   },
   "id": "50479da1cbce583b"
  },
  {
   "cell_type": "code",
   "execution_count": null,
   "outputs": [],
   "source": [],
   "metadata": {
    "collapsed": false
   },
   "id": "74a884ae17dfa08b"
  }
 ],
 "metadata": {
  "kernelspec": {
   "display_name": "Python 3",
   "language": "python",
   "name": "python3"
  },
  "language_info": {
   "codemirror_mode": {
    "name": "ipython",
    "version": 2
   },
   "file_extension": ".py",
   "mimetype": "text/x-python",
   "name": "python",
   "nbconvert_exporter": "python",
   "pygments_lexer": "ipython2",
   "version": "2.7.6"
  }
 },
 "nbformat": 4,
 "nbformat_minor": 5
}
