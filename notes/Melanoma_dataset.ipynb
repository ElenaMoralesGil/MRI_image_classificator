{
 "cells": [
  {
   "cell_type": "markdown",
   "id": "a592dab344556c81",
   "metadata": {
    "collapsed": false
   },
   "source": []
  },
  {
   "cell_type": "markdown",
   "id": "884dfa2c9f2720f2",
   "metadata": {
    "collapsed": false
   },
   "source": [
    "## Introducción\n",
    "Este cuaderno se centra en el procesamiento y análisis de un conjunto de datos de melanoma. Incluye pasos para la carga de datos, preprocesamiento, entrenamiento del modelo y evaluación.\n",
    "\n",
    "### Indice\n",
    "* [Model](##red-neuronal-simple)"
   ]
  },
  {
   "cell_type": "code",
   "execution_count": null,
   "id": "e297458e66d698c",
   "metadata": {
    "ExecuteTime": {
     "end_time": "2023-12-30T18:40:29.490441800Z",
     "start_time": "2023-12-30T18:40:29.314404Z"
    },
    "collapsed": false
   },
   "outputs": [],
   "source": [
    "%matplotlib inline\n",
    "\n",
    "# imports\n",
    "import torch\n",
    "import torch.nn as nn\n",
    "\n",
    "import sklearn.metrics as metrics\n",
    "import matplotlib.pyplot as plt\n",
    "\n",
    "from sklearn.metrics import classification_report, confusion_matrix, ConfusionMatrixDisplay\n",
    "import matplotlib.pyplot as plt\n",
    "\n",
    "from torchvision import transforms\n",
    "from torch.utils.data import DataLoader\n",
    "from PIL import Image\n",
    "import os\n",
    "\n",
    "from sklearn.model_selection import train_test_split"
   ]
  },
  {
   "cell_type": "code",
   "execution_count": null,
   "id": "17429aaa5c21af8d",
   "metadata": {
    "ExecuteTime": {
     "end_time": "2023-12-30T18:40:29.660310600Z",
     "start_time": "2023-12-30T18:40:29.334408300Z"
    },
    "collapsed": false
   },
   "outputs": [],
   "source": [
    "import torch\n",
    "# Configuración del dispositivo CUDA\n",
    "print(torch.__version__)\n",
    "device = torch.device(\"cuda\" if torch.cuda.is_available() else \"cpu\")\n",
    "print(f\"Dispositivo configurado para usar: {device}\")\n",
    "\n",
    "print(torch.cuda.is_available())\n",
    "print(torch.cuda.get_device_name(0))"
   ]
  },
  {
   "cell_type": "code",
   "execution_count": null,
   "id": "6e9d634414fcb0a8",
   "metadata": {
    "ExecuteTime": {
     "end_time": "2023-12-30T18:40:29.697328400Z",
     "start_time": "2023-12-30T18:40:29.476439400Z"
    },
    "collapsed": false
   },
   "outputs": [],
   "source": [
    "# consts\n",
    "cats = [\"MEL\",\"NV\",\"BCC\",\"AK\",\"BKL\",\"DF\",\"VASC\",\"SCC\",\"UNK\"]\n",
    "\n",
    "base_path_csv = \"./dataset\"\n",
    "base_path_img = \"./dataset\"\n",
    "\n",
    "random_state=1\n",
    "\n",
    "train_percent = .7\n",
    "val_percent = .2\n",
    "test_percent = .1\n",
    "\n"
   ]
  },
  {
   "cell_type": "markdown",
   "id": "a3f446c2ab7e62e5",
   "metadata": {
    "collapsed": false
   },
   "source": [
    "## Configuración\n",
    "Las siguientes celdas importan las librerías necesarias y definen constantes utilizadas a lo largo del cuaderno."
   ]
  },
  {
   "cell_type": "code",
   "execution_count": null,
   "id": "51724f93a2becdfb",
   "metadata": {
    "ExecuteTime": {
     "end_time": "2023-12-30T18:40:29.749341300Z",
     "start_time": "2023-12-30T18:40:29.605504200Z"
    },
    "collapsed": false
   },
   "outputs": [],
   "source": [
    "csv = pd.read_csv(f\"{base_path_csv}/ISIC_2019_Training_GroundTruth.csv\")\n",
    "\n",
    "print(\"> Cantidad de elementos\", csv.count(axis=1).size )\n",
    "print(\"> Head de los datos del csv\")\n",
    "print(csv.head())"
   ]
  },
  {
   "cell_type": "code",
   "execution_count": null,
   "id": "f2c2d80efad22ce3",
   "metadata": {
    "ExecuteTime": {
     "end_time": "2023-12-30T18:40:29.940690900Z",
     "start_time": "2023-12-30T18:40:29.748341Z"
    },
    "collapsed": false
   },
   "outputs": [],
   "source": [
    "header = list(csv.columns)\n",
    "header.remove(\"image\")\n",
    "\n",
    "print(\"> Categorias\")\n",
    "print(header)"
   ]
  },
  {
   "cell_type": "code",
   "execution_count": null,
   "id": "dd487ad7b0d9ea0d",
   "metadata": {
    "ExecuteTime": {
     "end_time": "2023-12-30T18:40:30.383418400Z",
     "start_time": "2023-12-30T18:40:29.940690900Z"
    },
    "collapsed": false
   },
   "outputs": [],
   "source": [
    "\n",
    "data = pd.DataFrame({\"img\":[], \"cat\": []}, dtype=int)\n",
    "rows_list = []\n",
    "for entry in csv.values:\n",
    "    new_row = {\"img\": entry[0], \"cat\": np.where(entry==1.0)[0][0]-1}\n",
    "    rows_list.append(new_row)\n",
    "\n",
    "data = pd.DataFrame(rows_list)\n",
    "\n",
    "\n",
    "print(\"> Cantidad de filas\", csv.count(axis=1).size)\n",
    "print(\"> Head de los datos en el formato que usa pytorch\")\n",
    "print(data.head())"
   ]
  },
  {
   "cell_type": "markdown",
   "id": "fc258a4506fca26f",
   "metadata": {
    "collapsed": false
   },
   "source": []
  },
  {
   "cell_type": "markdown",
   "id": "c1f642ef672dfe1d",
   "metadata": {
    "collapsed": false
   },
   "source": [
    "## Carga de Datos y Exploración Inicial\n",
    "El conjunto de datos se carga desde un archivo CSV, y se realiza una exploración inicial para entender su estructura y contenidos."
   ]
  },
  {
   "cell_type": "code",
   "execution_count": null,
   "id": "6b70f51bf4912f76",
   "metadata": {
    "ExecuteTime": {
     "end_time": "2023-12-30T18:40:30.437439Z",
     "start_time": "2023-12-30T18:40:30.386418400Z"
    },
    "collapsed": false
   },
   "outputs": [],
   "source": [
    "counter = np.zeros(len(cats), dtype=int)\n",
    "\n",
    "for elm in data.values:\n",
    "    counter[int(elm[1])]+=1\n",
    "\n",
    "print(\"> Cantidad de imagenes de cada tipo:\")\n",
    "print(counter)"
   ]
  },
  {
   "cell_type": "code",
   "execution_count": null,
   "id": "baac2604b9be6feb",
   "metadata": {
    "ExecuteTime": {
     "end_time": "2023-12-30T18:40:30.638872Z",
     "start_time": "2023-12-30T18:40:30.417425500Z"
    },
    "collapsed": false
   },
   "outputs": [],
   "source": [
    "# counter = list(filter(lambda elm: elm > 0, counter))\n",
    "# min_cat_size = min(counter)\n",
    "\n",
    "min_cat_size = data.cat.value_counts().min()\n",
    "\n",
    "print(\"> Cantidad mínima de imagenes de un tipo:\")\n",
    "print(min_cat_size)"
   ]
  },
  {
   "cell_type": "code",
   "execution_count": null,
   "id": "b75e85454418a3d4",
   "metadata": {
    "ExecuteTime": {
     "end_time": "2023-12-30T18:40:30.858926Z",
     "start_time": "2023-12-30T18:40:30.638872Z"
    },
    "collapsed": false
   },
   "outputs": [],
   "source": [
    "data = pd.DataFrame(data.groupby(\"cat\").apply(lambda cat: cat.sample(min_cat_size, random_state=random_state)).reset_index(drop=True))\n",
    "\n",
    "print(\"> Cantidad de elemntos:\", data.count(axis=1).size )\n",
    "print(\"> Datos equilibrados\")\n",
    "print(data.head())"
   ]
  },
  {
   "cell_type": "code",
   "execution_count": null,
   "id": "4a3d5f2b4ec3448b",
   "metadata": {
    "ExecuteTime": {
     "end_time": "2023-12-30T18:40:31.001487800Z",
     "start_time": "2023-12-30T18:40:30.860926100Z"
    },
    "collapsed": false
   },
   "outputs": [],
   "source": [
    "data = data.sample(frac=1, random_state=random_state)\n",
    "\n",
    "print(\"> cantidad de elementos\", data.count(axis=1).size)\n",
    "print(\"> datos barajados\")\n",
    "print(data.head())"
   ]
  },
  {
   "cell_type": "markdown",
   "id": "b4f69d52d9c9d54a",
   "metadata": {
    "collapsed": false
   },
   "source": [
    "## Preprocesamiento y Análisis de Datos\n",
    "Estas celdas manejan el preprocesamiento de datos, incluyendo la limpieza, equilibrio y preparación para el aprendizaje automático."
   ]
  },
  {
   "cell_type": "code",
   "execution_count": null,
   "id": "52bd2a6b437772a9",
   "metadata": {
    "ExecuteTime": {
     "end_time": "2023-12-30T18:40:31.161082300Z",
     "start_time": "2023-12-30T18:40:31.002488Z"
    },
    "collapsed": false
   },
   "outputs": [],
   "source": [
    "counter = np.zeros(len(cats), dtype=int)\n",
    "\n",
    "for elm in data.values:\n",
    "    counter[int(elm[1])]+=1\n",
    "\n",
    "print(\"> Cantidad de imagenes de cada tipo:\")\n",
    "print(counter)"
   ]
  },
  {
   "cell_type": "code",
   "execution_count": null,
   "id": "d41e8af072468566",
   "metadata": {
    "ExecuteTime": {
     "end_time": "2023-12-30T18:40:31.429707300Z",
     "start_time": "2023-12-30T18:40:31.161082300Z"
    },
    "collapsed": false
   },
   "outputs": [],
   "source": [
    "# data.to_csv(f\"{base_path_csv}/balanced_data.csv\", index=False)"
   ]
  },
  {
   "cell_type": "code",
   "execution_count": null,
   "id": "675c45665252c0d8",
   "metadata": {
    "ExecuteTime": {
     "end_time": "2023-12-30T18:40:31.526790Z",
     "start_time": "2023-12-30T18:40:31.433707600Z"
    },
    "collapsed": false
   },
   "outputs": [],
   "source": [
    "train_data, tmp = train_test_split(data, train_size=train_percent, stratify=data['cat'], shuffle=True, random_state=random_state)\n",
    "val_data, test_data = train_test_split(tmp, test_size=test_percent/(test_percent+val_percent), stratify=tmp['cat'], shuffle=True, random_state=random_state)\n",
    "\n",
    "\n",
    "print(\"> train\", train_data.count(axis=1).size)\n",
    "print(test_data.head())\n",
    "print()\n",
    "\n",
    "print(\"> val\", val_data.count(axis=1).size)\n",
    "print(val_data.head())\n",
    "print()\n",
    "\n",
    "print(\"> test\", test_data.count(axis=1).size)\n",
    "print(test_data.head())\n",
    "print()"
   ]
  },
  {
   "cell_type": "code",
   "execution_count": null,
   "id": "65875d972288c8e5",
   "metadata": {
    "ExecuteTime": {
     "end_time": "2023-12-30T18:40:31.650675Z",
     "start_time": "2023-12-30T18:40:31.528790100Z"
    },
    "collapsed": false
   },
   "outputs": [],
   "source": [
    "counter = np.zeros(len(cats), dtype=int)\n",
    "for elm in train_data.values:\n",
    "    counter[int(elm[1])]+=1\n",
    "\n",
    "print(\"> train\", train_data.count(axis=1).size, train_data.count(axis=1).size/data.count(axis=1).size)\n",
    "print(counter, f\"({counter[0]/train_data.count(axis=1).size})\")\n",
    "print()\n",
    "\n",
    "counter = np.zeros(len(cats), dtype=int)\n",
    "for elm in val_data.values:\n",
    "    counter[int(elm[1])]+=1\n",
    "\n",
    "print(\"> val\", val_data.count(axis=1).size, val_data.count(axis=1).size/data.count(axis=1).size)\n",
    "print(counter, f\"({counter[0]/val_data.count(axis=1).size})\")\n",
    "print()\n",
    "\n",
    "counter = np.zeros(len(cats), dtype=int)\n",
    "for elm in test_data.values:\n",
    "    counter[int(elm[1])]+=1\n",
    "\n",
    "print(\"> test\", test_data.count(axis=1).size, test_data.count(axis=1).size/data.count(axis=1).size)\n",
    "print(counter, f\"({counter[0]/test_data.count(axis=1).size})\")\n",
    "print()"
   ]
  },
  {
   "cell_type": "markdown",
   "id": "b055c548040e747d",
   "metadata": {
    "collapsed": false
   },
   "source": [
    "## División de Datos para el Entrenamiento del Modelo\n",
    "El conjunto de datos se divide en conjuntos de entrenamiento, validación y prueba para prepararse para el entrenamiento del modelo."
   ]
  },
  {
   "cell_type": "code",
   "execution_count": null,
   "id": "4571fa141d88aa2f",
   "metadata": {
    "ExecuteTime": {
     "end_time": "2023-12-30T18:40:31.745344100Z",
     "start_time": "2023-12-30T18:40:31.652676400Z"
    },
    "collapsed": false
   },
   "outputs": [],
   "source": [
    "# train_data.to_csv(f\"{base_path_csv}/train_data.csv\", index=False)\n",
    "# val_data.to_csv(f\"{base_path_csv}/val_data.csv\", index=False)\n",
    "# test_data.to_csv(f\"{base_path_csv}/test_data.csv\", index=False)"
   ]
  },
  {
   "cell_type": "markdown",
   "id": "ed53491ef059f8be",
   "metadata": {
    "collapsed": false
   },
   "source": [
    "# creacion de un dataset personalizado"
   ]
  },
  {
   "cell_type": "code",
   "execution_count": null,
   "id": "74b025b08473b620",
   "metadata": {
    "ExecuteTime": {
     "end_time": "2023-12-30T18:40:31.872830900Z",
     "start_time": "2023-12-30T18:40:31.746343500Z"
    },
    "collapsed": false
   },
   "outputs": [],
   "source": [
    "\n",
    "from torch.utils.data import  Dataset\n",
    "image_dir = f\"{base_path_img}/ISIC_2019_Training_Input/ISIC_2019_Training_Input\"\n",
    "class CustomDataset(Dataset):\n",
    "    def __init__(self, dataframe, image_dir, transform=None):\n",
    "        self.dataframe = dataframe\n",
    "        self.image_dir = image_dir\n",
    "        self.transform = transform\n",
    "       \n",
    "\n",
    "    def __len__(self):\n",
    "        return len(self.dataframe)\n",
    "\n",
    "    def __getitem__(self, idx):\n",
    "        img_name = os.path.join(self.image_dir, self.dataframe.iloc[idx]['img'] + \".jpg\")\n",
    "        image = Image.open(img_name)\n",
    "        label = self.dataframe.iloc[idx]['cat']\n",
    "        if self.transform:\n",
    "            image = self.transform(image)\n",
    "        return image, label"
   ]
  },
  {
   "cell_type": "code",
   "execution_count": null,
   "id": "c54cfda2a9fbf1f1",
   "metadata": {
    "ExecuteTime": {
     "end_time": "2023-12-30T18:41:00.096791Z",
     "start_time": "2023-12-30T18:40:31.877823900Z"
    },
    "collapsed": false
   },
   "outputs": [],
   "source": [
    "\n",
    "import torch\n",
    "from torchvision import transforms\n",
    "from torch.utils.data import DataLoader\n",
    "from PIL import Image\n",
    "import os\n",
    "# Carga el conjunto de datos de entrenamiento sin ninguna normalización para calcular la media y la desviación estándar\n",
    "unnormalized_transform = transforms.Compose([\n",
    "    transforms.Resize((150, 150)), \n",
    "    transforms.ToTensor()\n",
    "])\n",
    "unnormalized_dataset = CustomDataset(data, image_dir, transform=unnormalized_transform)\n",
    "loader = DataLoader(unnormalized_dataset, batch_size=64, shuffle=False)\n",
    "\n",
    "# Calcular la media y la desviación estándar\n",
    "mean_sum = torch.zeros(3)\n",
    "std_sum = torch.zeros(3)\n",
    "n_samples = 0\n",
    "\n",
    "for images, _ in loader:\n",
    "    # Asegúrate de que las imágenes están en el rango 0-1\n",
    "    images = images / 255.0 if images.max() > 1 else images\n",
    "\n",
    "    batch_samples = images.size(0)\n",
    "    images = images.view(batch_samples, images.size(1), -1)\n",
    "    mean = images.mean(dim=[0, 2])\n",
    "    std = images.std(dim=[0, 2])\n",
    "\n",
    "    mean_sum += mean * batch_samples\n",
    "    std_sum += std * batch_samples\n",
    "    n_samples += batch_samples\n",
    "\n",
    "mean = mean_sum / n_samples\n",
    "std = std_sum / n_samples\n",
    "\n",
    "# Transformaciones para el conjunto de entrenamiento\n",
    "train_transform = transforms.Compose([\n",
    "    transforms.Resize((150, 150)),             \n",
    "    transforms.RandomRotation(180),            \n",
    "    transforms.RandomHorizontalFlip(),\n",
    "    transforms.RandomVerticalFlip(),\n",
    "    transforms.ColorJitter(brightness=0.1, contrast=0.1),\n",
    "    transforms.ToTensor(),\n",
    "    transforms.Normalize(mean=mean, std=std)\n",
    "])\n",
    "\n",
    "# Transformaciones para el conjunto de validación y test (sin data augmentation)\n",
    "test_valid_transforms = transforms.Compose([\n",
    "    transforms.Resize((150, 150)),\n",
    "    transforms.ToTensor(),\n",
    "    transforms.Normalize(mean=mean, std=std)\n",
    "])\n",
    "\n",
    "train_dataset = CustomDataset(train_data,image_dir, transform=train_transform)\n",
    "val_dataset = CustomDataset(val_data,image_dir, transform=test_valid_transforms)\n",
    "test_dataset = CustomDataset(test_data, image_dir,transform=test_valid_transforms)\n",
    "\n",
    "# comprobaciones\n",
    "sample_dataset = CustomDataset(train_data, image_dir, transform=train_transform)\n",
    "\n",
    "# Acceder e imprimir las primeras 5 muestras del dataset\n",
    "for i in range(5):\n",
    "    image, label = sample_dataset[i]\n",
    "    print(f\"Muestra {i}: Imagen - {type(image)}, Dimensiones - {image.size()}, Etiqueta - {label}\")\n",
    "\n",
    "# Imprimir los valores de la media y la desviación estándar\n",
    "print(f\"Media: {mean}, Desviación Estándar: {std}\")\n",
    "\n",
    "\n",
    "\n",
    "train_loader = DataLoader(train_dataset, batch_size=32, shuffle=True)\n",
    "val_loader = DataLoader(val_dataset, batch_size=32, shuffle=False)\n",
    "test_loader = DataLoader(test_dataset, batch_size=32, shuffle=False)\n",
    "\n",
    "# Verificar DataLoader\n",
    "for images, labels in train_loader:\n",
    "    print(f\"Batch de imágenes: {images.shape}, Batch de etiquetas: {labels.shape}\")\n",
    "    break "
   ]
  },
  {
   "cell_type": "code",
   "execution_count": null,
   "id": "86e00ff04666ab8d",
   "metadata": {
    "ExecuteTime": {
     "end_time": "2023-12-30T18:41:00.123797200Z",
     "start_time": "2023-12-30T18:41:00.098791400Z"
    },
    "collapsed": false
   },
   "outputs": [],
   "source": [
    "# imports\n",
    "import torch.nn as nn\n",
    "import torch.nn.functional as F"
   ]
  },
  {
   "cell_type": "markdown",
   "id": "9b8fcd7b97d85613",
   "metadata": {
    "collapsed": false
   },
   "source": [
    "## Red Neuronal simple "
   ]
  },
  {
   "cell_type": "code",
   "execution_count": null,
   "id": "3195808d0e522f69",
   "metadata": {
    "ExecuteTime": {
     "end_time": "2023-12-30T18:41:00.288834500Z",
     "start_time": "2023-12-30T18:41:00.116795600Z"
    },
    "collapsed": false
   },
   "outputs": [],
   "source": [
    "import torch.nn as nn\n",
    "import torch.nn.functional as F\n",
    "\n",
    "class CNN(nn.Module):\n",
    "    def __init__(self):\n",
    "        super(CNN, self).__init__()\n",
    "        # Capas convolucionales\n",
    "        self.conv1 = nn.Conv2d(in_channels=3, out_channels=32, kernel_size=3, stride=1, padding=1)\n",
    "        self.bn1 = nn.BatchNorm2d(32)\n",
    "        self.conv2 = nn.Conv2d(in_channels=32, out_channels=64, kernel_size=3, stride=1, padding=1)\n",
    "        self.bn2 = nn.BatchNorm2d(64)\n",
    "        self.conv3 = nn.Conv2d(in_channels=64, out_channels=128, kernel_size=3, stride=1, padding=1)\n",
    "        self.bn3 = nn.BatchNorm2d(128)\n",
    "\n",
    "        # Max pooling\n",
    "        self.pool = nn.MaxPool2d(kernel_size=2, stride=2, padding=0)\n",
    "\n",
    "        # Capa Dropout \n",
    "        self.dropout25 = nn.Dropout(0.25)\n",
    "        self.dropout50 = nn.Dropout(0.5)\n",
    "\n",
    "        # Capas Fully connected \n",
    "        self.fc1 = nn.Linear(in_features=128 * 18 * 18, out_features=512)\n",
    "        self.fc2 = nn.Linear(in_features=512, out_features=8)  # Asegúrate de que 8 sea el número correcto de clases\n",
    "\n",
    "    def forward(self, x):\n",
    "        x = self.pool(F.relu(self.bn1(self.conv1(x))))\n",
    "        x = self.pool(F.relu(self.bn2(self.conv2(x))))\n",
    "        x = self.dropout25(x)\n",
    "        x = self.pool(F.relu(self.bn3(self.conv3(x))))\n",
    "        x = self.dropout25(x)\n",
    "\n",
    "        x = x.view(-1, 128 * 18 * 18)\n",
    "        x = F.relu(self.fc1(x))\n",
    "        x = self.dropout50(x)\n",
    "        x = self.fc2(x)\n",
    "        return x\n",
    "\n",
    "model = CNN()\n",
    "model.to(device)\n",
    "print(model)\n"
   ]
  },
  {
   "cell_type": "markdown",
   "id": "bf9344ab85d911",
   "metadata": {
    "collapsed": false
   },
   "source": [
    "## Preparación del Modelo\n",
    "Esta sección prepara el modelo de red neuronal usando PyTorch, incluyendo la definición de la arquitectura del modelo y los cargadores de datos."
   ]
  },
  {
   "cell_type": "code",
   "execution_count": null,
   "id": "d3d3e819c89a605c",
   "metadata": {
    "ExecuteTime": {
     "end_time": "2023-12-30T18:41:00.328235700Z",
     "start_time": "2023-12-30T18:41:00.289835100Z"
    },
    "collapsed": false
   },
   "outputs": [],
   "source": [
    "from matplotlib import pyplot as plt\n",
    "\n",
    "\n",
    "def plot_loss(history):\n",
    "    plt.plot(history)\n",
    "    plt.xlabel('Batch')\n",
    "    plt.ylabel('Loss')\n",
    "    plt.show()"
   ]
  },
  {
   "cell_type": "markdown",
   "id": "909e3884d1e16d38",
   "metadata": {
    "collapsed": false
   },
   "source": [
    "## Funciones de Entrenamiento y Evaluación\n",
    "Aquí se definen las funciones para entrenar el modelo y evaluar su rendimiento."
   ]
  },
  {
   "cell_type": "code",
   "execution_count": null,
   "id": "99dac6e3",
   "metadata": {
    "ExecuteTime": {
     "end_time": "2023-12-30T20:58:48.424679200Z",
     "start_time": "2023-12-30T20:58:47.873207Z"
    }
   },
   "outputs": [],
   "source": [
    "\n",
    "from sklearn import metrics\n",
    "\n",
    "\n",
    "def eval(model, test_loader, device, criterion):\n",
    "    model.eval()\n",
    "\n",
    "    total = 0\n",
    "    correct = 0\n",
    "\n",
    "    pred = []\n",
    "    real = []\n",
    "    val_loss = 0\n",
    "\n",
    "    with torch.no_grad():\n",
    "        for imgs, cats in test_loader:\n",
    "    \n",
    "            imgs, cats = imgs.to(device), cats.to(device)\n",
    "\n",
    "            outputs = model(imgs)\n",
    "            _, predicted = torch.max(outputs, 1)\n",
    "            \n",
    "            \n",
    "            val_loss += criterion(outputs, cats).item()\n",
    "\n",
    "            pred.extend(predicted.tolist())\n",
    "            real.extend(cats.tolist())\n",
    "\n",
    "            total += cats.size(0)\n",
    "            correct += (predicted == cats).sum().item()\n",
    "\n",
    "    print(f'Accuracy on images: {100 * correct / total:.2f}%')\n",
    "    print(metrics.classification_report(pred, real, zero_division=0))\n",
    "    \n",
    "    return torch.FloatTensor(pred), torch.FloatTensor(real), val_loss/(len(test_loader))"
   ]
  },
  {
   "cell_type": "code",
   "execution_count": null,
   "id": "8a2f8ca530edeff5",
   "metadata": {
    "ExecuteTime": {
     "end_time": "2023-12-30T18:41:00.494863100Z",
     "start_time": "2023-12-30T18:41:00.402349900Z"
    },
    "collapsed": false
   },
   "outputs": [],
   "source": [
    "def train_loop(model, train_loader, optimizer, criterion, num_epoch, device, history = []):\n",
    "\n",
    "    for epoch in range(num_epoch):\n",
    "\n",
    "        running_loss = 0\n",
    "        for i, (imgs, cats) in enumerate(train_loader, 1):\n",
    "            \n",
    "            model.train()\n",
    "\n",
    "            imgs, cats = imgs.to(device), cats.to(device)\n",
    "            optimizer.zero_grad()\n",
    "            outputs = model(imgs)\n",
    "            loss = criterion(outputs, cats)\n",
    "            loss.backward()\n",
    "            optimizer.step()\n",
    "            running_loss += loss.item()\n",
    "\n",
    "            if not i % 10:\n",
    "                print(f\"Epoch {epoch+1}, Batch {i}, Loss: {running_loss/10:.4f}\")\n",
    "                history.append(running_loss/10)\n",
    "                running_loss = 0.0\n",
    "                \n",
    "        _, _, val_loss = eval(model, train_loader, device, criterion=criterion)\n",
    "\n",
    "        print(f\"Validation Loss: {val_loss:.4f}\")\n",
    "        early_stopping(val_loss)\n",
    "\n",
    "        if early_stopping.early_stop:\n",
    "            print(\"Early stopping\")\n",
    "            break\n",
    "\n",
    "    print(\"Finished training\")"
   ]
  },
  {
   "cell_type": "markdown",
   "id": "ebf22adcee1bee40",
   "metadata": {
    "collapsed": false
   },
   "source": [
    "## Utilidades Adicionales\n",
    "Funciones de utilidad adicionales, como la detención temprana, se definen en esta sección."
   ]
  },
  {
   "cell_type": "code",
   "execution_count": null,
   "id": "97a17b8124f01e9",
   "metadata": {
    "ExecuteTime": {
     "end_time": "2023-12-30T18:41:00.574239Z",
     "start_time": "2023-12-30T18:41:00.494863100Z"
    },
    "collapsed": false
   },
   "outputs": [],
   "source": [
    "class EarlyStopping:\n",
    "    def __init__(self, patience=5, min_delta=0):\n",
    "        self.patience = patience\n",
    "        self.min_delta = min_delta\n",
    "        self.counter = 0\n",
    "        self.best_loss = None\n",
    "        self.early_stop = False\n",
    "\n",
    "    def __call__(self, val_loss):\n",
    "        if self.best_loss is None:\n",
    "            self.best_loss = val_loss\n",
    "        elif val_loss < self.best_loss - self.min_delta:\n",
    "            self.best_loss = val_loss\n",
    "            self.counter = 0\n",
    "        else:\n",
    "            self.counter += 1\n",
    "            if self.counter >= self.patience:\n",
    "                self.early_stop = True\n",
    "\n",
    "early_stopping = EarlyStopping(patience=10, min_delta=0.01)\n"
   ]
  },
  {
   "cell_type": "code",
   "execution_count": null,
   "id": "95cccb2ef10a97fd",
   "metadata": {
    "ExecuteTime": {
     "start_time": "2023-12-30T18:41:00.574239Z"
    },
    "collapsed": false,
    "is_executing": true
   },
   "outputs": [],
   "source": [
    "model = model.to(device)\n",
    "optimizer = torch.optim.Adam(model.parameters(), lr=0.001)\n",
    "criterion = torch.nn.CrossEntropyLoss()\n",
    "num_epochs = 200\n",
    "\n",
    "train_loop(model, train_loader, optimizer, criterion, num_epochs, device)"
   ]
  },
  {
   "cell_type": "markdown",
   "id": "a91045811b60d1d4",
   "metadata": {
    "collapsed": false
   },
   "source": [
    "## Conclusión\n"
   ]
  }
 ],
 "metadata": {
  "kernelspec": {
   "display_name": "Python 3",
   "language": "python",
   "name": "python3"
  },
  "language_info": {
   "codemirror_mode": {
    "name": "ipython",
    "version": 2
   },
   "file_extension": ".py",
   "mimetype": "text/x-python",
   "name": "python",
   "nbconvert_exporter": "python",
   "pygments_lexer": "ipython2",
   "version": "2.7.6"
  }
 },
 "nbformat": 4,
 "nbformat_minor": 5
}
